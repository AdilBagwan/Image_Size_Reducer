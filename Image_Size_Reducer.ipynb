{
 "cells": [
  {
   "cell_type": "markdown",
   "metadata": {},
   "source": [
    "# OpenCV Library for Image Handling"
   ]
  },
  {
   "cell_type": "code",
   "execution_count": 6,
   "metadata": {},
   "outputs": [],
   "source": [
    "import cv2"
   ]
  },
  {
   "cell_type": "code",
   "execution_count": 7,
   "metadata": {},
   "outputs": [],
   "source": [
    "img = cv2.imread(\"samantha_35.jpg\")"
   ]
  },
  {
   "cell_type": "code",
   "execution_count": 8,
   "metadata": {},
   "outputs": [
    {
     "data": {
      "text/plain": [
       "array([[[15, 26, 10],\n",
       "        [15, 26, 10],\n",
       "        [15, 26, 10],\n",
       "        ...,\n",
       "        [16, 26, 13],\n",
       "        [16, 26, 13],\n",
       "        [42, 52, 39]],\n",
       "\n",
       "       [[17, 28, 12],\n",
       "        [16, 27, 11],\n",
       "        [16, 27, 11],\n",
       "        ...,\n",
       "        [17, 27, 14],\n",
       "        [17, 27, 14],\n",
       "        [43, 53, 40]],\n",
       "\n",
       "       [[19, 30, 14],\n",
       "        [18, 29, 13],\n",
       "        [17, 28, 12],\n",
       "        ...,\n",
       "        [17, 27, 14],\n",
       "        [18, 28, 15],\n",
       "        [45, 55, 42]],\n",
       "\n",
       "       ...,\n",
       "\n",
       "       [[16, 27, 11],\n",
       "        [18, 29, 13],\n",
       "        [19, 30, 14],\n",
       "        ...,\n",
       "        [32, 44, 24],\n",
       "        [31, 43, 23],\n",
       "        [54, 66, 46]],\n",
       "\n",
       "       [[16, 27, 11],\n",
       "        [18, 29, 13],\n",
       "        [20, 31, 15],\n",
       "        ...,\n",
       "        [32, 44, 24],\n",
       "        [32, 44, 24],\n",
       "        [55, 67, 47]],\n",
       "\n",
       "       [[15, 26, 10],\n",
       "        [18, 29, 13],\n",
       "        [20, 31, 15],\n",
       "        ...,\n",
       "        [34, 46, 26],\n",
       "        [33, 45, 25],\n",
       "        [56, 68, 48]]], dtype=uint8)"
      ]
     },
     "execution_count": 8,
     "metadata": {},
     "output_type": "execute_result"
    }
   ],
   "source": [
    "img"
   ]
  },
  {
   "cell_type": "code",
   "execution_count": 9,
   "metadata": {},
   "outputs": [
    {
     "name": "stdout",
     "output_type": "stream",
     "text": [
      "(768, 1366, 3)\n"
     ]
    }
   ],
   "source": [
    "print(img.shape)"
   ]
  },
  {
   "cell_type": "code",
   "execution_count": 10,
   "metadata": {},
   "outputs": [],
   "source": [
    "## setting ratio of resized image \n",
    "k = 5\n",
    "width = int(img.shape[1]/k)\n",
    "height = int(img.shape[0]/k)"
   ]
  },
  {
   "cell_type": "code",
   "execution_count": 11,
   "metadata": {},
   "outputs": [
    {
     "name": "stdout",
     "output_type": "stream",
     "text": [
      "(153, 273, 3)\n"
     ]
    }
   ],
   "source": [
    "## resize the image by resize() function\n",
    "resized = cv2.resize(img , (width, height), interpolation=cv2.INTER_AREA)\n",
    "print(resized.shape)"
   ]
  },
  {
   "cell_type": "code",
   "execution_count": 23,
   "metadata": {},
   "outputs": [],
   "source": [
    "## showing resized image\n",
    "cv2.imshow(\"Output\",resized)\n",
    "cv2.waitKey(500)\n",
    "cv2.destroyAllWindows()\n"
   ]
  },
  {
   "cell_type": "code",
   "execution_count": 28,
   "metadata": {},
   "outputs": [
    {
     "data": {
      "text/plain": [
       "True"
      ]
     },
     "execution_count": 28,
     "metadata": {},
     "output_type": "execute_result"
    }
   ],
   "source": [
    "### Saving resized image to local\n",
    "cv2.imwrite('image.jpg',resized)"
   ]
  }
 ],
 "metadata": {
  "kernelspec": {
   "display_name": "Python 3",
   "language": "python",
   "name": "python3"
  },
  "language_info": {
   "codemirror_mode": {
    "name": "ipython",
    "version": 3
   },
   "file_extension": ".py",
   "mimetype": "text/x-python",
   "name": "python",
   "nbconvert_exporter": "python",
   "pygments_lexer": "ipython3",
   "version": "3.8.5"
  }
 },
 "nbformat": 4,
 "nbformat_minor": 4
}
